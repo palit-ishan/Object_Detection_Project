{
  "cells": [
    {
      "cell_type": "markdown",
      "metadata": {
        "id": "view-in-github",
        "colab_type": "text"
      },
      "source": [
        "<a href=\"https://colab.research.google.com/github/palit-ishan/Object_Detection_Project/blob/main/Road_Signs_Detection_Model_Training.ipynb\" target=\"_parent\"><img src=\"https://colab.research.google.com/assets/colab-badge.svg\" alt=\"Open In Colab\"/></a>"
      ]
    },
    {
      "cell_type": "markdown",
      "metadata": {
        "id": "PpJEzDG6DK2Q"
      },
      "source": [
        "# Train a custom object detection model with TensorFlow Lite Model Maker\n",
        "\n",
        "We will use the [TensorFlow Lite Model Maker](https://www.tensorflow.org/lite/guide/model_maker) to train a custom object detection model to detect Road Signs and put the TFLite model on a Raspberry Pi.\n",
        "\n",
        "The Model Maker library uses *transfer learning* to simplify the process of training a TensorFlow Lite model using a custom dataset. Retraining a TensorFlow Lite model with your own custom dataset reduces the amount of training data required and will shorten the training time.\n"
      ]
    },
    {
      "cell_type": "markdown",
      "metadata": {
        "id": "BRYjtwRZGBOI"
      },
      "source": [
        "## Preparation\n",
        "\n",
        "### Install the required packages\n",
        "We will install the required packages, including the Model Maker package from the [GitHub repo](https://github.com/tensorflow/examples/tree/master/tensorflow_examples/lite/model_maker) and the pycocotools library we will use for evaluation."
      ]
    },
    {
      "cell_type": "code",
      "execution_count": null,
      "metadata": {
        "colab": {
          "base_uri": "https://localhost:8080/"
        },
        "id": "35BJmtVpAP_n",
        "outputId": "81378ec1-3308-46ac-8fed-083ea06428f2"
      },
      "outputs": [
        {
          "output_type": "stream",
          "name": "stdout",
          "text": [
            "\u001b[2K     \u001b[90m━━━━━━━━━━━━━━━━━━━━━━━━━━━━━━━━━━━━━━━\u001b[0m \u001b[32m577.3/577.3 kB\u001b[0m \u001b[31m9.7 MB/s\u001b[0m eta \u001b[36m0:00:00\u001b[0m\n",
            "\u001b[2K     \u001b[90m━━━━━━━━━━━━━━━━━━━━━━━━━━━━━━━━━━━━━━━━\u001b[0m \u001b[32m1.3/1.3 MB\u001b[0m \u001b[31m32.7 MB/s\u001b[0m eta \u001b[36m0:00:00\u001b[0m\n",
            "\u001b[2K     \u001b[90m━━━━━━━━━━━━━━━━━━━━━━━━━━━━━━━━━━━━━━\u001b[0m \u001b[32m240.6/240.6 kB\u001b[0m \u001b[31m11.2 MB/s\u001b[0m eta \u001b[36m0:00:00\u001b[0m\n",
            "\u001b[2K     \u001b[90m━━━━━━━━━━━━━━━━━━━━━━━━━━━━━━━━━━━━━━━━\u001b[0m \u001b[32m88.3/88.3 kB\u001b[0m \u001b[31m3.9 MB/s\u001b[0m eta \u001b[36m0:00:00\u001b[0m\n",
            "\u001b[?25h  Preparing metadata (setup.py) ... \u001b[?25l\u001b[?25hdone\n",
            "\u001b[2K     \u001b[90m━━━━━━━━━━━━━━━━━━━━━━━━━━━━━━━━━━━━━━━\u001b[0m \u001b[32m203.8/203.8 kB\u001b[0m \u001b[31m5.2 MB/s\u001b[0m eta \u001b[36m0:00:00\u001b[0m\n",
            "\u001b[2K     \u001b[90m━━━━━━━━━━━━━━━━━━━━━━━━━━━━━━━━━━━━━━━\u001b[0m \u001b[32m108.8/108.8 kB\u001b[0m \u001b[31m9.8 MB/s\u001b[0m eta \u001b[36m0:00:00\u001b[0m\n",
            "\u001b[2K     \u001b[90m━━━━━━━━━━━━━━━━━━━━━━━━━━━━━━━━━━━━━━━━\u001b[0m \u001b[32m10.3/10.3 MB\u001b[0m \u001b[31m49.7 MB/s\u001b[0m eta \u001b[36m0:00:00\u001b[0m\n",
            "\u001b[2K     \u001b[90m━━━━━━━━━━━━━━━━━━━━━━━━━━━━━━━━━━━━━━━━\u001b[0m \u001b[32m10.9/10.9 MB\u001b[0m \u001b[31m40.7 MB/s\u001b[0m eta \u001b[36m0:00:00\u001b[0m\n",
            "\u001b[2K     \u001b[90m━━━━━━━━━━━━━━━━━━━━━━━━━━━━━━━━━━━━━━\u001b[0m \u001b[32m840.9/840.9 kB\u001b[0m \u001b[31m16.6 MB/s\u001b[0m eta \u001b[36m0:00:00\u001b[0m\n",
            "\u001b[2K     \u001b[90m━━━━━━━━━━━━━━━━━━━━━━━━━━━━━━━━━━━━━━\u001b[0m \u001b[32m591.0/591.0 kB\u001b[0m \u001b[31m12.6 MB/s\u001b[0m eta \u001b[36m0:00:00\u001b[0m\n",
            "\u001b[2K     \u001b[90m━━━━━━━━━━━━━━━━━━━━━━━━━━━━━━━━━━━━━━━━\u001b[0m \u001b[32m60.9/60.9 MB\u001b[0m \u001b[31m9.8 MB/s\u001b[0m eta \u001b[36m0:00:00\u001b[0m\n",
            "\u001b[2K     \u001b[90m━━━━━━━━━━━━━━━━━━━━━━━━━━━━━━━━━━━━━━━━\u001b[0m \u001b[32m3.4/3.4 MB\u001b[0m \u001b[31m47.3 MB/s\u001b[0m eta \u001b[36m0:00:00\u001b[0m\n",
            "\u001b[2K     \u001b[90m━━━━━━━━━━━━━━━━━━━━━━━━━━━━━━━━━━━━━━━━\u001b[0m \u001b[32m77.5/77.5 kB\u001b[0m \u001b[31m5.8 MB/s\u001b[0m eta \u001b[36m0:00:00\u001b[0m\n",
            "\u001b[?25h"
          ]
        }
      ],
      "source": [
        "!pip install -q tflite-model-maker\n",
        "!pip install -q tflite-support"
      ]
    },
    {
      "cell_type": "markdown",
      "metadata": {
        "id": "prQ86DdtD317"
      },
      "source": [
        "Import the required packages."
      ]
    },
    {
      "cell_type": "code",
      "execution_count": null,
      "metadata": {
        "id": "l4QQTXHHATDS",
        "colab": {
          "base_uri": "https://localhost:8080/"
        },
        "outputId": "afa17a73-8d41-41c4-c2b4-52ea91d0d4ce"
      },
      "outputs": [
        {
          "output_type": "stream",
          "name": "stderr",
          "text": [
            "/usr/local/lib/python3.9/dist-packages/tensorflow_addons/utils/ensure_tf_install.py:53: UserWarning: Tensorflow Addons supports using Python ops for all Tensorflow versions above or equal to 2.9.0 and strictly below 2.12.0 (nightly versions are not supported). \n",
            " The versions of TensorFlow you are currently using is 2.8.4 and is not supported. \n",
            "Some things might work, some things might not.\n",
            "If you were to encounter a bug, do not file an issue.\n",
            "If you want to make sure you're using a tested and supported configuration, either change the TensorFlow version or the TensorFlow Addons's version. \n",
            "You can find the compatibility matrix in TensorFlow Addon's readme:\n",
            "https://github.com/tensorflow/addons\n",
            "  warnings.warn(\n"
          ]
        }
      ],
      "source": [
        "import numpy as np\n",
        "import os\n",
        "\n",
        "from tflite_model_maker.config import ExportFormat, QuantizationConfig\n",
        "from tflite_model_maker import model_spec\n",
        "from tflite_model_maker import object_detector\n",
        "\n",
        "from tflite_support import metadata\n",
        "\n",
        "import tensorflow as tf\n",
        "assert tf.__version__.startswith('2')\n",
        "\n",
        "tf.get_logger().setLevel('ERROR')\n",
        "from absl import logging\n",
        "logging.set_verbosity(logging.ERROR)"
      ]
    },
    {
      "cell_type": "markdown",
      "metadata": {
        "id": "3g6aQvXsD78P"
      },
      "source": [
        "### Prepare the dataset"
      ]
    },
    {
      "cell_type": "code",
      "source": [
        "from google.colab import drive\n",
        "drive.mount('/content/drive')"
      ],
      "metadata": {
        "colab": {
          "base_uri": "https://localhost:8080/"
        },
        "id": "jInSvMYm0itV",
        "outputId": "d2774b83-bb51-403d-f592-31ead9c9e687"
      },
      "execution_count": null,
      "outputs": [
        {
          "output_type": "stream",
          "name": "stdout",
          "text": [
            "Mounted at /content/drive\n"
          ]
        }
      ]
    },
    {
      "cell_type": "markdown",
      "metadata": {
        "id": "Yxh3KInCFeB-"
      },
      "source": [
        "## Train the object detection model\n",
        "\n",
        "### Step 1: Load the dataset\n",
        "\n",
        "* Images in `train_data` is used to train the custom object detection model.\n",
        "* Images in `val_data` is used to check if the model can generalize well to new images that it hasn't seen before."
      ]
    },
    {
      "cell_type": "code",
      "execution_count": null,
      "metadata": {
        "id": "WiAahdsQAdT7"
      },
      "outputs": [],
      "source": [
        "train_data = object_detector.DataLoader.from_pascal_voc(\n",
        "    'drive/MyDrive/Project_Test_Data/train',\n",
        "    'drive/MyDrive/Project_Test_Data/train',\n",
        "    ['Road Work','Pedestrian Crossing','Bicycle Crossing','Stop Sign', 'Traffic Sign - Red','Traffic Sign - Green','Traffic Signal - Yellow']\n",
        ")\n",
        "val_data = object_detector.DataLoader.from_pascal_voc(\n",
        "    'drive/MyDrive/Project_Test_Data/validate',\n",
        "    'drive/MyDrive/Project_Test_Data/validate',\n",
        "    ['Road Work','Pedestrian Crossing','Bicycle Crossing','Stop Sign', 'Traffic Sign - Red','Traffic Sign - Green','Traffic Signal - Yellow']\n",
        ")"
      ]
    },
    {
      "cell_type": "code",
      "source": [
        "val_data.size"
      ],
      "metadata": {
        "colab": {
          "base_uri": "https://localhost:8080/"
        },
        "id": "yRODW5eTmUX2",
        "outputId": "6ba183f3-2929-41fe-85bb-d2ea4dec4f38"
      },
      "execution_count": null,
      "outputs": [
        {
          "output_type": "execute_result",
          "data": {
            "text/plain": [
              "7"
            ]
          },
          "metadata": {},
          "execution_count": 6
        }
      ]
    },
    {
      "cell_type": "markdown",
      "metadata": {
        "id": "UNRhB8N7GHXj"
      },
      "source": [
        "### Step 2: Select a model architecture\n",
        "\n",
        "EfficientDet-Lite[0-4] are a family of mobile/IoT-friendly object detection models derived from the [EfficientDet](https://arxiv.org/abs/1911.09070) architecture.\n",
        "\n",
        "Here is the performance of each EfficientDet-Lite models compared to each others.\n",
        "\n",
        "| Model architecture | Size(MB)* | Latency(ms)** | Average Precision*** |\n",
        "|--------------------|-----------|---------------|----------------------|\n",
        "| EfficientDet-Lite0 | 4.4       | 146           | 25.69%               |\n",
        "| EfficientDet-Lite1 | 5.8       | 259           | 30.55%               |\n",
        "| EfficientDet-Lite2 | 7.2       | 396           | 33.97%               |\n",
        "| EfficientDet-Lite3 | 11.4      | 716           | 37.70%               |\n",
        "| EfficientDet-Lite4 | 19.9      | 1886          | 41.96%               |\n",
        "\n",
        "<i> * Size of the integer quantized models. <br/>\n",
        "** Latency measured on Raspberry Pi 4 using 4 threads on CPU. <br/>\n",
        "*** Average Precision is the mAP (mean Average Precision) on the COCO 2017 validation dataset.\n",
        "</i>\n",
        "\n",
        "In this notebook, we use EfficientDet-Lite0 to train our model. You can choose other model architectures depending on whether speed or accuracy is more important to you."
      ]
    },
    {
      "cell_type": "code",
      "execution_count": null,
      "metadata": {
        "id": "GZOojrDHAY1J"
      },
      "outputs": [],
      "source": [
        "spec = model_spec.get('efficientdet_lite0')"
      ]
    },
    {
      "cell_type": "markdown",
      "metadata": {
        "id": "5aeDU4mIM4ft"
      },
      "source": [
        "### Step 3: Train the TensorFlow model with the training data.\n",
        "\n",
        "* Set `epochs = 20`, which means it will go through the training dataset 20 times. You can look at the validation accuracy during training and stop when you see validation loss (`val_loss`) stop decreasing to avoid overfitting.\n",
        "* Set `batch_size = 4` here so you will see that it takes 15 steps to go through the 62 images in the training dataset.\n",
        "* Set `train_whole_model=True` to fine-tune the whole model instead of just training the head layer to improve accuracy. The trade-off is that it may take longer to train the model."
      ]
    },
    {
      "cell_type": "code",
      "execution_count": null,
      "metadata": {
        "colab": {
          "base_uri": "https://localhost:8080/"
        },
        "id": "_MClfpsJAfda",
        "outputId": "d8c1f1b2-78d6-4c8a-ae59-1a9033e197e2"
      },
      "outputs": [
        {
          "output_type": "stream",
          "name": "stdout",
          "text": [
            "Epoch 1/20\n",
            "6/6 [==============================] - 48s 812ms/step - det_loss: 1.8484 - cls_loss: 1.1922 - box_loss: 0.0131 - reg_l2_loss: 0.0639 - loss: 1.9123 - learning_rate: 0.0161 - gradient_norm: 0.8444\n",
            "Epoch 2/20\n",
            "6/6 [==============================] - 4s 736ms/step - det_loss: 1.7620 - cls_loss: 1.1781 - box_loss: 0.0117 - reg_l2_loss: 0.0639 - loss: 1.8259 - learning_rate: 0.0246 - gradient_norm: 0.8303\n",
            "Epoch 3/20\n",
            "6/6 [==============================] - 6s 1s/step - det_loss: 1.6446 - cls_loss: 1.1639 - box_loss: 0.0096 - reg_l2_loss: 0.0639 - loss: 1.7085 - learning_rate: 0.0240 - gradient_norm: 0.7625\n",
            "Epoch 4/20\n",
            "6/6 [==============================] - 5s 852ms/step - det_loss: 1.5791 - cls_loss: 1.1419 - box_loss: 0.0087 - reg_l2_loss: 0.0639 - loss: 1.6430 - learning_rate: 0.0230 - gradient_norm: 0.8365\n",
            "Epoch 5/20\n",
            "6/6 [==============================] - 5s 832ms/step - det_loss: 1.5155 - cls_loss: 1.1186 - box_loss: 0.0079 - reg_l2_loss: 0.0639 - loss: 1.5794 - learning_rate: 0.0217 - gradient_norm: 0.9225\n",
            "Epoch 6/20\n",
            "6/6 [==============================] - 4s 726ms/step - det_loss: 1.3795 - cls_loss: 1.0560 - box_loss: 0.0065 - reg_l2_loss: 0.0639 - loss: 1.4434 - learning_rate: 0.0202 - gradient_norm: 1.1093\n",
            "Epoch 7/20\n",
            "6/6 [==============================] - 6s 1s/step - det_loss: 1.2907 - cls_loss: 0.9978 - box_loss: 0.0059 - reg_l2_loss: 0.0639 - loss: 1.3546 - learning_rate: 0.0185 - gradient_norm: 1.3719\n",
            "Epoch 8/20\n",
            "6/6 [==============================] - 5s 831ms/step - det_loss: 1.1814 - cls_loss: 0.9157 - box_loss: 0.0053 - reg_l2_loss: 0.0639 - loss: 1.2453 - learning_rate: 0.0166 - gradient_norm: 1.5571\n",
            "Epoch 9/20\n",
            "6/6 [==============================] - 4s 713ms/step - det_loss: 1.0891 - cls_loss: 0.8466 - box_loss: 0.0049 - reg_l2_loss: 0.0639 - loss: 1.1530 - learning_rate: 0.0146 - gradient_norm: 1.6687\n",
            "Epoch 10/20\n",
            "6/6 [==============================] - 4s 783ms/step - det_loss: 1.0060 - cls_loss: 0.7836 - box_loss: 0.0044 - reg_l2_loss: 0.0640 - loss: 1.0699 - learning_rate: 0.0125 - gradient_norm: 1.6262\n",
            "Epoch 11/20\n",
            "6/6 [==============================] - 6s 1s/step - det_loss: 0.9497 - cls_loss: 0.7487 - box_loss: 0.0040 - reg_l2_loss: 0.0640 - loss: 1.0136 - learning_rate: 0.0105 - gradient_norm: 1.5273\n",
            "Epoch 12/20\n",
            "6/6 [==============================] - 5s 879ms/step - det_loss: 0.9088 - cls_loss: 0.7142 - box_loss: 0.0039 - reg_l2_loss: 0.0640 - loss: 0.9728 - learning_rate: 0.0085 - gradient_norm: 1.6538\n",
            "Epoch 13/20\n",
            "6/6 [==============================] - 4s 726ms/step - det_loss: 0.8527 - cls_loss: 0.6692 - box_loss: 0.0037 - reg_l2_loss: 0.0640 - loss: 0.9167 - learning_rate: 0.0066 - gradient_norm: 1.8066\n",
            "Epoch 14/20\n",
            "6/6 [==============================] - 4s 812ms/step - det_loss: 0.8490 - cls_loss: 0.6685 - box_loss: 0.0036 - reg_l2_loss: 0.0640 - loss: 0.9130 - learning_rate: 0.0049 - gradient_norm: 1.8199\n",
            "Epoch 15/20\n",
            "6/6 [==============================] - 6s 1s/step - det_loss: 0.7998 - cls_loss: 0.6389 - box_loss: 0.0032 - reg_l2_loss: 0.0640 - loss: 0.8638 - learning_rate: 0.0033 - gradient_norm: 1.7422\n",
            "Epoch 16/20\n",
            "6/6 [==============================] - 5s 889ms/step - det_loss: 0.8127 - cls_loss: 0.6353 - box_loss: 0.0035 - reg_l2_loss: 0.0640 - loss: 0.8767 - learning_rate: 0.0021 - gradient_norm: 2.0466\n",
            "Epoch 17/20\n",
            "6/6 [==============================] - 4s 722ms/step - det_loss: 0.7866 - cls_loss: 0.6204 - box_loss: 0.0033 - reg_l2_loss: 0.0640 - loss: 0.8506 - learning_rate: 0.0011 - gradient_norm: 1.6779\n",
            "Epoch 18/20\n",
            "6/6 [==============================] - 5s 814ms/step - det_loss: 0.7876 - cls_loss: 0.6089 - box_loss: 0.0036 - reg_l2_loss: 0.0640 - loss: 0.8515 - learning_rate: 4.0966e-04 - gradient_norm: 1.6918\n",
            "Epoch 19/20\n",
            "6/6 [==============================] - 6s 1s/step - det_loss: 0.7279 - cls_loss: 0.5665 - box_loss: 0.0032 - reg_l2_loss: 0.0640 - loss: 0.7919 - learning_rate: 6.2284e-05 - gradient_norm: 1.4542\n",
            "Epoch 20/20\n",
            "6/6 [==============================] - 5s 836ms/step - det_loss: 0.7345 - cls_loss: 0.5730 - box_loss: 0.0032 - reg_l2_loss: 0.0640 - loss: 0.7985 - learning_rate: 5.4177e-05 - gradient_norm: 1.4622\n"
          ]
        }
      ],
      "source": [
        "model = object_detector.create(train_data, model_spec=spec,batch_size = 20,train_whole_model=True, epochs=20, validation_data=val_data)"
      ]
    },
    {
      "cell_type": "markdown",
      "metadata": {
        "id": "KB4hKeerMmh4"
      },
      "source": [
        "### Step 4. Evaluate the model with the validation data.\n",
        "\n",
        "After training the object detection model using the images in the training dataset, use the 10 images in the validation dataset to evaluate how the model performs against new data it has never seen before.\n",
        "\n",
        "As the default batch size is 64, it will take 1 step to go through the 10 images in the validation dataset.\n",
        "\n",
        "The evaluation metrics are same as [COCO](https://cocodataset.org/#detection-eval)."
      ]
    },
    {
      "cell_type": "code",
      "source": [
        "val_data.size"
      ],
      "metadata": {
        "colab": {
          "base_uri": "https://localhost:8080/"
        },
        "id": "8TZPxPs7RNMu",
        "outputId": "f2f7567b-2be5-43dd-d87c-97d01abdbb65"
      },
      "execution_count": null,
      "outputs": [
        {
          "output_type": "execute_result",
          "data": {
            "text/plain": [
              "7"
            ]
          },
          "metadata": {},
          "execution_count": 9
        }
      ]
    },
    {
      "cell_type": "code",
      "execution_count": null,
      "metadata": {
        "colab": {
          "base_uri": "https://localhost:8080/"
        },
        "id": "OUqEpcYwAg8L",
        "outputId": "063f682e-18fa-40ea-9290-615948cb2674"
      },
      "outputs": [
        {
          "output_type": "stream",
          "name": "stdout",
          "text": [
            "\r1/1 [==============================] - 6s 6s/step\n",
            "\n"
          ]
        },
        {
          "output_type": "execute_result",
          "data": {
            "text/plain": [
              "{'AP': 0.2234066,\n",
              " 'AP50': 0.3797619,\n",
              " 'AP75': 0.20833333,\n",
              " 'APs': -1.0,\n",
              " 'APm': -1.0,\n",
              " 'APl': 0.22345237,\n",
              " 'ARmax1': 0.4,\n",
              " 'ARmax10': 0.5285714,\n",
              " 'ARmax100': 0.5285714,\n",
              " 'ARs': -1.0,\n",
              " 'ARm': -1.0,\n",
              " 'ARl': 0.5285714,\n",
              " 'AP_/Road Work': 0.4,\n",
              " 'AP_/Pedestrian Crossing': 0.0,\n",
              " 'AP_/Bicycle Crossing': 0.3,\n",
              " 'AP_/Stop Sign': 0.1,\n",
              " 'AP_/Traffic Sign - Red': 0.5,\n",
              " 'AP_/Traffic Sign - Green': 0.063846156,\n",
              " 'AP_/Traffic Signal - Yellow': 0.2}"
            ]
          },
          "metadata": {},
          "execution_count": 10
        }
      ],
      "source": [
        "model.evaluate(val_data)"
      ]
    },
    {
      "cell_type": "markdown",
      "metadata": {
        "id": "NARVYk9rGLIl"
      },
      "source": [
        "### Step 5: Export as a TensorFlow Lite model.\n",
        "\n",
        "Export the trained object detection model to the TensorFlow Lite format by specifying which folder you want to export the quantized model to. The default post-training quantization technique is [full integer quantization](https://www.tensorflow.org/lite/performance/post_training_integer_quant). This allows the TensorFlow Lite model to be smaller, run faster on Raspberry Pi CPU and also compatible with the Google Coral EdgeTPU."
      ]
    },
    {
      "cell_type": "code",
      "execution_count": null,
      "metadata": {
        "id": "_u3eFxoBAiqE"
      },
      "outputs": [],
      "source": [
        "model.export(export_dir='.', tflite_filename='road_signs.tflite')"
      ]
    },
    {
      "cell_type": "markdown",
      "metadata": {
        "id": "JZcBmEigOCO3"
      },
      "source": [
        "### Step 6:  Evaluate the TensorFlow Lite model.\n",
        "\n",
        "Several factors can affect the model accuracy when exporting to TFLite:\n",
        "* [Quantization](https://www.tensorflow.org/lite/performance/model_optimization) helps shrinking the model size by 4 times at the expense of some accuracy drop.\n",
        "* The original TensorFlow model uses per-class [non-max supression (NMS)](https://www.coursera.org/lecture/convolutional-neural-networks/non-max-suppression-dvrjH) for post-processing, while the TFLite model uses global NMS that's much faster but less accurate.\n",
        "Keras outputs maximum 100 detections while tflite outputs maximum 25 detections.\n",
        "\n",
        "Therefore you'll have to evaluate the exported TFLite model and compare its accuracy with the original TensorFlow model."
      ]
    },
    {
      "cell_type": "code",
      "execution_count": null,
      "metadata": {
        "colab": {
          "base_uri": "https://localhost:8080/"
        },
        "id": "Jbl8z9_wBPlr",
        "outputId": "f51a018f-f825-473a-e5a4-e5d292949fe1"
      },
      "outputs": [
        {
          "output_type": "stream",
          "name": "stdout",
          "text": [
            "7/7 [==============================] - 21s 3s/step\n",
            "\n"
          ]
        },
        {
          "output_type": "execute_result",
          "data": {
            "text/plain": [
              "{'AP': 0.07539683,\n",
              " 'AP50': 0.2777778,\n",
              " 'AP75': 0.0,\n",
              " 'APs': -1.0,\n",
              " 'APm': -1.0,\n",
              " 'APl': 0.07539683,\n",
              " 'ARmax1': 0.08571429,\n",
              " 'ARmax10': 0.114285715,\n",
              " 'ARmax100': 0.114285715,\n",
              " 'ARs': -1.0,\n",
              " 'ARm': -1.0,\n",
              " 'ARl': 0.114285715,\n",
              " 'AP_/Road Work': 0.05,\n",
              " 'AP_/Pedestrian Crossing': 0.0,\n",
              " 'AP_/Bicycle Crossing': 0.0,\n",
              " 'AP_/Stop Sign': 0.011111111,\n",
              " 'AP_/Traffic Sign - Red': 0.0,\n",
              " 'AP_/Traffic Sign - Green': 0.4,\n",
              " 'AP_/Traffic Signal - Yellow': 0.06666667}"
            ]
          },
          "metadata": {},
          "execution_count": 12
        }
      ],
      "source": [
        "model.evaluate_tflite('road_signs.tflite', val_data)"
      ]
    },
    {
      "cell_type": "code",
      "execution_count": null,
      "metadata": {
        "colab": {
          "base_uri": "https://localhost:8080/",
          "height": 17
        },
        "id": "v7zgUkdOUUnD",
        "outputId": "cd451610-c9b3-4ff9-e993-1fcfb9a68cd7"
      },
      "outputs": [
        {
          "output_type": "display_data",
          "data": {
            "text/plain": [
              "<IPython.core.display.Javascript object>"
            ],
            "application/javascript": [
              "\n",
              "    async function download(id, filename, size) {\n",
              "      if (!google.colab.kernel.accessAllowed) {\n",
              "        return;\n",
              "      }\n",
              "      const div = document.createElement('div');\n",
              "      const label = document.createElement('label');\n",
              "      label.textContent = `Downloading \"${filename}\": `;\n",
              "      div.appendChild(label);\n",
              "      const progress = document.createElement('progress');\n",
              "      progress.max = size;\n",
              "      div.appendChild(progress);\n",
              "      document.body.appendChild(div);\n",
              "\n",
              "      const buffers = [];\n",
              "      let downloaded = 0;\n",
              "\n",
              "      const channel = await google.colab.kernel.comms.open(id);\n",
              "      // Send a message to notify the kernel that we're ready.\n",
              "      channel.send({})\n",
              "\n",
              "      for await (const message of channel.messages) {\n",
              "        // Send a message to notify the kernel that we're ready.\n",
              "        channel.send({})\n",
              "        if (message.buffers) {\n",
              "          for (const buffer of message.buffers) {\n",
              "            buffers.push(buffer);\n",
              "            downloaded += buffer.byteLength;\n",
              "            progress.value = downloaded;\n",
              "          }\n",
              "        }\n",
              "      }\n",
              "      const blob = new Blob(buffers, {type: 'application/binary'});\n",
              "      const a = document.createElement('a');\n",
              "      a.href = window.URL.createObjectURL(blob);\n",
              "      a.download = filename;\n",
              "      div.appendChild(a);\n",
              "      a.click();\n",
              "      div.remove();\n",
              "    }\n",
              "  "
            ]
          },
          "metadata": {}
        },
        {
          "output_type": "display_data",
          "data": {
            "text/plain": [
              "<IPython.core.display.Javascript object>"
            ],
            "application/javascript": [
              "download(\"download_dcca0fc0-4248-4d24-8ccb-f415953cea42\", \"road_signs.tflite\", 4451819)"
            ]
          },
          "metadata": {}
        }
      ],
      "source": [
        "# Download the TFLite model to your local computer.\n",
        "from google.colab import files\n",
        "files.download('road_signs.tflite')"
      ]
    },
    {
      "cell_type": "markdown",
      "metadata": {
        "id": "bIGSdzXkEzrj"
      },
      "source": [
        "**Note:** When training the model using a custom dataset, beware that if your dataset includes more than 20 classes, you'll probably have slower inference speeds compared to if you have fewer classes. This is due to an aspect of the EfficientDet architecture in which a certain layer cannot compile for the Edge TPU when it carries more than 20 classes."
      ]
    },
    {
      "cell_type": "markdown",
      "metadata": {
        "id": "rzF6u0FZTAjF"
      },
      "source": [
        "Before compiling the `.tflite` file for the Edge TPU, it's important to consider whether your model will fit into the Edge TPU memory. \n",
        "\n",
        "The Edge TPU has approximately 8 MB of SRAM for [caching model paramaters](https://coral.ai/docs/edgetpu/compiler/#parameter-data-caching), so any model close to or over 8 MB will not fit onto the Edge TPU memory. That means the inference times are longer, because some model parameters must be fetched from the host system memory.\n",
        "\n",
        "One way to elimiate the extra latency is to use [model pipelining](https://coral.ai/docs/edgetpu/pipeline/), which splits the model into segments that can run on separate Edge TPUs in series. This can significantly reduce the latency for big models.\n",
        "\n",
        "The following table provides recommendations for the number of Edge TPUs to use with each EfficientDet-Lite model.\n",
        "\n",
        "| Model architecture | Minimum TPUs | Recommended TPUs\n",
        "|--------------------|-------|-------|\n",
        "| EfficientDet-Lite0 | 1     | 1     |\n",
        "| EfficientDet-Lite1 | 1     | 1     |\n",
        "| EfficientDet-Lite2 | 1     | 2     |\n",
        "| EfficientDet-Lite3 | 2     | 2     |\n",
        "| EfficientDet-Lite4 | 2     | 3     |\n",
        "\n",
        "If you need extra Edge TPUs for your model, then update `NUMBER_OF_TPUS` here:"
      ]
    }
  ],
  "metadata": {
    "accelerator": "GPU",
    "colab": {
      "provenance": [],
      "include_colab_link": true
    },
    "kernelspec": {
      "display_name": "Python 3",
      "name": "python3"
    },
    "language_info": {
      "name": "python"
    }
  },
  "nbformat": 4,
  "nbformat_minor": 0
}